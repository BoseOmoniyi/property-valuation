{
 "cells": [],
 "metadata": {
  "colab": {
   "name": "BoseOmoniyi_ta_colab.ipynb"
  },
  "kernelspec": {
   "display_name": "Python 3",
   "name": "python3"
  }
 },
 "nbformat": 4,
 "nbformat_minor": 0
}